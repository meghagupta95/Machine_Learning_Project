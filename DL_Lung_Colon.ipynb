{
  "cells": [
    {
      "cell_type": "code",
      "execution_count": null,
      "metadata": {
        "id": "vsFpdPVYJVF8"
      },
      "outputs": [],
      "source": [
        "! mkdir ~/.kaggle\n",
        "! cp kaggle.json ~/.kaggle/"
      ]
    },
    {
      "cell_type": "code",
      "execution_count": null,
      "metadata": {
        "colab": {
          "base_uri": "https://localhost:8080/"
        },
        "id": "sjftGo-ZJdCG",
        "outputId": "0a5135af-b16e-4caa-ca01-509e425c1063"
      },
      "outputs": [
        {
          "name": "stdout",
          "output_type": "stream",
          "text": [
            "Looking in indexes: https://pypi.org/simple, https://us-python.pkg.dev/colab-wheels/public/simple/\n",
            "Requirement already satisfied: kaggle in /usr/local/lib/python3.8/dist-packages (1.5.12)\n",
            "Requirement already satisfied: python-slugify in /usr/local/lib/python3.8/dist-packages (from kaggle) (7.0.0)\n",
            "Requirement already satisfied: certifi in /usr/local/lib/python3.8/dist-packages (from kaggle) (2022.9.24)\n",
            "Requirement already satisfied: tqdm in /usr/local/lib/python3.8/dist-packages (from kaggle) (4.64.1)\n",
            "Requirement already satisfied: requests in /usr/local/lib/python3.8/dist-packages (from kaggle) (2.23.0)\n",
            "Requirement already satisfied: urllib3 in /usr/local/lib/python3.8/dist-packages (from kaggle) (1.24.3)\n",
            "Requirement already satisfied: six>=1.10 in /usr/local/lib/python3.8/dist-packages (from kaggle) (1.15.0)\n",
            "Requirement already satisfied: python-dateutil in /usr/local/lib/python3.8/dist-packages (from kaggle) (2.8.2)\n",
            "Requirement already satisfied: text-unidecode>=1.3 in /usr/local/lib/python3.8/dist-packages (from python-slugify->kaggle) (1.3)\n",
            "Requirement already satisfied: chardet<4,>=3.0.2 in /usr/local/lib/python3.8/dist-packages (from requests->kaggle) (3.0.4)\n",
            "Requirement already satisfied: idna<3,>=2.5 in /usr/local/lib/python3.8/dist-packages (from requests->kaggle) (2.10)\n",
            "Warning: Your Kaggle API key is readable by other users on this system! To fix this, you can run 'chmod 600 /root/.kaggle/kaggle.json'\n",
            "Downloading lung-and-colon-cancer-histopathological-images.zip to /content\n",
            "100% 1.75G/1.76G [00:09<00:00, 184MB/s]\n",
            "100% 1.76G/1.76G [00:09<00:00, 195MB/s]\n"
          ]
        }
      ],
      "source": [
        "! pip install kaggle\n",
        "\n",
        "# download lung and colon cancer dataset from kaggle and unzip it\n",
        "! kaggle datasets download -d andrewmvd/lung-and-colon-cancer-histopathological-images\n",
        "! unzip -qq lung-and-colon-cancer-histopathological-images.zip\n"
      ]
    },
    {
      "cell_type": "code",
      "execution_count": null,
      "metadata": {
        "id": "WEafC7eNJgvs"
      },
      "outputs": [],
      "source": [
        "# place the data in required folders\n",
        "! mkdir lung_colon_data\n",
        "! mkdir lung_data\n",
        "! mkdir colon_data\n",
        "! cp -R lung_colon_image_set/lung_image_sets/* lung_colon_data/\n",
        "! cp -R lung_colon_image_set/colon_image_sets/* lung_colon_data/\n",
        "! cp -R lung_colon_image_set/lung_image_sets/* lung_data/\n",
        "! cp -R lung_colon_image_set/colon_image_sets/* colon_data/"
      ]
    },
    {
      "cell_type": "code",
      "execution_count": null,
      "metadata": {
        "colab": {
          "base_uri": "https://localhost:8080/"
        },
        "id": "a3vIBIcLJpA3",
        "outputId": "7dd560f9-a060-4d7e-ccf3-357016a00c33"
      },
      "outputs": [
        {
          "name": "stdout",
          "output_type": "stream",
          "text": [
            "5000\n",
            "5000\n",
            "5000\n",
            "5000\n",
            "5000\n",
            "2000\n",
            "2000\n",
            "2000\n",
            "2000\n",
            "2000\n"
          ]
        }
      ],
      "source": [
        "\"\"\"# **Data Reduction**\"\"\"\n",
        "\n",
        "! ls -1 lung_colon_data/colon_aca/ | egrep -c ''\n",
        "! ls -1 lung_colon_data/colon_n/ | egrep -c ''\n",
        "! ls -1 lung_colon_data/lung_aca/ | egrep -c ''\n",
        "! ls -1 lung_colon_data/lung_n/ | egrep -c ''\n",
        "! ls -1 lung_colon_data/lung_scc/ | egrep -c ''\n",
        "\n",
        "! ls -1 -d \"$PWD/lung_colon_data/colon_aca/\"* | head -3000 | xargs rm\n",
        "! ls -1 lung_colon_data/colon_aca/ | egrep -c ''\n",
        "\n",
        "! ls -1 -d \"$PWD/lung_colon_data/colon_n/\"* | head -3000 | xargs rm\n",
        "! ls -1 lung_colon_data/colon_n/ | egrep -c ''\n",
        "\n",
        "! ls -1 -d \"$PWD/lung_colon_data/lung_aca/\"* | head -3000 | xargs rm\n",
        "! ls -1 lung_colon_data/lung_aca/ | egrep -c ''\n",
        "\n",
        "! ls -1 -d \"$PWD/lung_colon_data/lung_n/\"* | head -3000 | xargs rm\n",
        "! ls -1 lung_colon_data/lung_n/ | egrep -c ''\n",
        "\n",
        "! ls -1 -d \"$PWD/lung_colon_data/lung_scc/\"* | head -3000 | xargs rm\n",
        "! ls -1 lung_colon_data/lung_scc/ | egrep -c ''"
      ]
    },
    {
      "cell_type": "code",
      "execution_count": 11,
      "metadata": {
        "id": "erV2CO3JJt2o"
      },
      "outputs": [],
      "source": [
        "# **Import the required libraries for the applying deep learning**\n",
        "\n",
        "from tensorflow.keras.preprocessing.image import ImageDataGenerator\n",
        "from glob import glob\n",
        "from tensorflow.keras.applications.efficientnet import EfficientNetB7\n",
        "from tensorflow.keras.applications.inception_resnet_v2 import InceptionResNetV2\n",
        "from tensorflow.keras.applications.vgg19 import VGG19\n",
        "from tensorflow.keras.layers import Input, Dense, Flatten, GlobalAveragePooling2D, Conv2D , MaxPool2D  , Dropout , BatchNormalization\n",
        "from tensorflow.keras.models import Model, Sequential\n",
        "from tensorflow.keras.callbacks import EarlyStopping, ReduceLROnPlateau\n",
        "import matplotlib.pyplot as plt\n",
        "from tensorflow.keras.preprocessing import image\n"
      ]
    },
    {
      "cell_type": "code",
      "execution_count": null,
      "metadata": {
        "id": "-Qh6_uKQJ0Db"
      },
      "outputs": [],
      "source": [
        "data = ImageDataGenerator(validation_split = 0.2)\n",
        "BATCH_SIZE = 128\n",
        "X = Y = 224"
      ]
    },
    {
      "cell_type": "code",
      "execution_count": null,
      "metadata": {
        "id": "p9yfNddcJ-9_"
      },
      "outputs": [],
      "source": [
        "lung_colon_data_dir = './lung_colon_data'\n",
        "lung_data_dir = './lung_data'\n",
        "colon_data_dir = './colon_data'"
      ]
    },
    {
      "cell_type": "code",
      "execution_count": null,
      "metadata": {
        "colab": {
          "base_uri": "https://localhost:8080/"
        },
        "id": "-jSCTd12KToL",
        "outputId": "ced72fb6-0b61-4773-e9c4-f6fb8901dadb"
      },
      "outputs": [
        {
          "name": "stdout",
          "output_type": "stream",
          "text": [
            "Found 8000 images belonging to 5 classes.\n",
            "Found 2000 images belonging to 5 classes.\n"
          ]
        }
      ],
      "source": [
        "# traininig data pipeline for classifying lung and colon images together\n",
        "lung_colon_training_data = data.flow_from_directory(lung_colon_data_dir,\n",
        "                                    class_mode = \"categorical\",\n",
        "                                    target_size = (X, Y),\n",
        "                                    color_mode=\"rgb\",\n",
        "                                    batch_size = BATCH_SIZE, \n",
        "                                    shuffle = False,\n",
        "                                    subset='training',\n",
        "                                    seed = 22)\n",
        "\n",
        "# validation data pipeline for classifying lung and colon images together\n",
        "lung_colon_validation_data = data.flow_from_directory(lung_colon_data_dir,\n",
        "                                      class_mode = \"categorical\",\n",
        "                                      target_size = (X, Y),\n",
        "                                      color_mode=\"rgb\",\n",
        "                                      batch_size = BATCH_SIZE, \n",
        "                                      shuffle = False,\n",
        "                                      subset='validation',\n",
        "                                      seed = 22)"
      ]
    },
    {
      "cell_type": "code",
      "execution_count": null,
      "metadata": {
        "colab": {
          "base_uri": "https://localhost:8080/"
        },
        "id": "KrmRc_LsKaEp",
        "outputId": "35d8e852-f131-43d0-d079-aa00c6e17ef2"
      },
      "outputs": [
        {
          "name": "stdout",
          "output_type": "stream",
          "text": [
            "Found 12000 images belonging to 3 classes.\n",
            "Found 3000 images belonging to 3 classes.\n"
          ]
        }
      ],
      "source": [
        "# training data pipeline for classifying only the lung cancer images\n",
        "lung_training_data = data.flow_from_directory(lung_data_dir,\n",
        "                                    class_mode = \"categorical\",\n",
        "                                    target_size = (X, Y),\n",
        "                                    color_mode=\"rgb\",\n",
        "                                    batch_size = BATCH_SIZE, \n",
        "                                    shuffle = False,\n",
        "                                    subset='training',\n",
        "                                    seed = 22)\n",
        "\n",
        "# validation data pipeline for classifying only the lung cancer images\n",
        "lung_validation_data = data.flow_from_directory(lung_data_dir,\n",
        "                                    class_mode = \"categorical\",\n",
        "                                    target_size = (X, Y),\n",
        "                                    color_mode=\"rgb\",\n",
        "                                    batch_size = BATCH_SIZE, \n",
        "                                    shuffle = False,\n",
        "                                    subset='validation',\n",
        "                                    seed = 22)\n"
      ]
    },
    {
      "cell_type": "code",
      "execution_count": null,
      "metadata": {
        "colab": {
          "base_uri": "https://localhost:8080/"
        },
        "id": "YeSLx04GKc5B",
        "outputId": "b35a6571-774a-4aa9-9161-b2eb92b334c6"
      },
      "outputs": [
        {
          "name": "stdout",
          "output_type": "stream",
          "text": [
            "Found 8000 images belonging to 2 classes.\n",
            "Found 2000 images belonging to 2 classes.\n"
          ]
        }
      ],
      "source": [
        "# training data pipeline for classifying only the colon cancer images\n",
        "colon_training_data = data.flow_from_directory(colon_data_dir,\n",
        "                                    class_mode = \"categorical\",\n",
        "                                    target_size = (X, Y),\n",
        "                                    color_mode=\"rgb\",\n",
        "                                    batch_size = BATCH_SIZE, \n",
        "                                    shuffle = False,\n",
        "                                    subset='training',\n",
        "                                    seed = 22)\n",
        "\n",
        "# validation data pipeline for classifying only the colon cancer images\n",
        "colon_validation_data = data.flow_from_directory(colon_data_dir,\n",
        "                                    class_mode = \"categorical\",\n",
        "                                    target_size = (X, Y),\n",
        "                                    color_mode=\"rgb\",\n",
        "                                    batch_size = BATCH_SIZE, \n",
        "                                    shuffle = False,\n",
        "                                    subset='validation',\n",
        "                                    seed = 22)"
      ]
    },
    {
      "cell_type": "markdown",
      "source": [
        "# EfficientNetB7"
      ],
      "metadata": {
        "id": "GVNXgqv84D5j"
      }
    },
    {
      "cell_type": "code",
      "execution_count": null,
      "metadata": {
        "id": "OhBloV9YKfQe"
      },
      "outputs": [],
      "source": [
        "\n",
        "\n",
        "# EfficientNet B7 model published by Google AI\n",
        "efficientnet = EfficientNetB7(input_shape=(X, Y, 3),\n",
        "    weights='imagenet',\n",
        "    include_top=False)\n",
        "\n",
        "efficientnet.trainable = False\n",
        "\n",
        "x = GlobalAveragePooling2D()(efficientnet.output)\n",
        "x = Flatten()(x)\n",
        "x = Dense(128, activation='relu')(x)\n",
        "x = Dense(64, activation='relu')(x)\n",
        "y = Dense(3, activation='softmax')(x)\n",
        "\n",
        "model_efficientnet = Model(inputs=efficientnet.input, outputs=y)\n",
        "model_efficientnet.compile(\n",
        "  loss='categorical_crossentropy',\n",
        "  optimizer='adam',\n",
        "  metrics=['accuracy']\n",
        ")"
      ]
    },
    {
      "cell_type": "code",
      "execution_count": null,
      "metadata": {
        "colab": {
          "background_save": true,
          "base_uri": "https://localhost:8080/"
        },
        "id": "iWlj52CnKkOJ",
        "outputId": "0fae54e1-861d-4698-cd7a-4443b8c8df9e"
      },
      "outputs": [
        {
          "name": "stdout",
          "output_type": "stream",
          "text": [
            "Epoch 1/2\n",
            "94/94 [==============================] - 4785s 51s/step - loss: 0.4751 - accuracy: 0.7837 - val_loss: 0.2402 - val_accuracy: 0.9090\n",
            "Epoch 2/2\n",
            "94/94 [==============================] - 4973s 53s/step - loss: 0.1856 - accuracy: 0.9287 - val_loss: 0.1259 - val_accuracy: 0.9513\n"
          ]
        }
      ],
      "source": [
        "early_stopping = EarlyStopping(monitor='val_loss', patience=3)\n",
        "history = model_efficientnet.fit(\n",
        "    lung_training_data,\n",
        "    validation_data=lung_validation_data,\n",
        "    epochs=2,\n",
        "    callbacks=[early_stopping])"
      ]
    },
    {
      "cell_type": "code",
      "execution_count": null,
      "metadata": {
        "id": "Wpxvz_F9PYTs"
      },
      "outputs": [],
      "source": [
        "acc = history.history['accuracy']\n",
        "val_acc = history.history['val_accuracy']\n",
        "loss = history.history['loss']\n",
        "val_loss = history.history['val_loss']"
      ]
    },
    {
      "cell_type": "code",
      "execution_count": null,
      "metadata": {
        "id": "rtB3IBgmKrKI",
        "colab": {
          "base_uri": "https://localhost:8080/"
        },
        "outputId": "d30c690b-d329-4c99-c3ef-a5e9ee05277a"
      },
      "outputs": [
        {
          "output_type": "stream",
          "name": "stdout",
          "text": [
            "24/24 [==============================] - 1022s 42s/step\n",
            "              precision    recall  f1-score   support\n",
            "\n",
            "           0       0.94      0.92      0.93      1000\n",
            "           1       0.97      1.00      0.99      1000\n",
            "           2       0.94      0.94      0.94      1000\n",
            "\n",
            "    accuracy                           0.95      3000\n",
            "   macro avg       0.95      0.95      0.95      3000\n",
            "weighted avg       0.95      0.95      0.95      3000\n",
            "\n"
          ]
        }
      ],
      "source": [
        "from sklearn.metrics import classification_report\n",
        "import numpy as np\n",
        "Y_pred = model_efficientnet.predict(lung_validation_data)\n",
        "y_pred = np.argmax(Y_pred, axis=1)\n",
        "\n",
        "print(classification_report(lung_validation_data.classes, y_pred))"
      ]
    },
    {
      "cell_type": "code",
      "source": [
        "\n",
        "\n",
        "# EfficientNet B7 model published by Google AI\n",
        "efficientnet = EfficientNetB7(input_shape=(X, Y, 3),\n",
        "    weights='imagenet',\n",
        "    include_top=False)\n",
        "\n",
        "efficientnet.trainable = False\n",
        "\n",
        "x = GlobalAveragePooling2D()(efficientnet.output)\n",
        "x = Flatten()(x)\n",
        "x = Dense(128, activation='relu')(x)\n",
        "x = Dense(64, activation='relu')(x)\n",
        "y = Dense(2, activation='softmax')(x)\n",
        "\n",
        "model_efficientnet = Model(inputs=efficientnet.input, outputs=y)\n",
        "model_efficientnet.compile(\n",
        "  loss='categorical_crossentropy',\n",
        "  optimizer='adam',\n",
        "  metrics=['accuracy']\n",
        ")"
      ],
      "metadata": {
        "id": "BOhuNUzo7fho"
      },
      "execution_count": null,
      "outputs": []
    },
    {
      "cell_type": "code",
      "execution_count": null,
      "metadata": {
        "id": "6-C68JwGQsMo"
      },
      "outputs": [],
      "source": [
        "early_stopping = EarlyStopping(monitor='val_loss', patience=3)\n",
        "history = model_efficientnet.fit(\n",
        "    colon_training_data,\n",
        "    validation_data=colon_validation_data,\n",
        "    epochs=2,\n",
        "    callbacks=[early_stopping])"
      ]
    },
    {
      "cell_type": "code",
      "execution_count": null,
      "metadata": {
        "id": "_ZoC2hPfRCif"
      },
      "outputs": [],
      "source": [
        "acc = history.history['accuracy']\n",
        "val_acc = history.history['val_accuracy']\n",
        "loss = history.history['loss']\n",
        "val_loss = history.history['val_loss']"
      ]
    },
    {
      "cell_type": "code",
      "execution_count": null,
      "metadata": {
        "id": "NiUVC9xvRDFw"
      },
      "outputs": [],
      "source": [
        "from sklearn.metrics import classification_report\n",
        "import numpy as np\n",
        "Y_pred = model_efficientnet.predict(colon_validation_data)\n",
        "y_pred = np.argmax(Y_pred, axis=1)\n",
        "print(classification_report(colon_validation_data.classes, y_pred))"
      ]
    },
    {
      "cell_type": "markdown",
      "source": [
        "# InceptionResNetV2"
      ],
      "metadata": {
        "id": "mIEC2ATD3-hA"
      }
    },
    {
      "cell_type": "code",
      "execution_count": null,
      "metadata": {
        "id": "BqrNNHyTRKHf"
      },
      "outputs": [],
      "source": [
        "# InceptionResNetV2 model\n",
        "inception_resnet_v2 = InceptionResNetV2(input_shape=(X, Y, 3),\n",
        "    weights='imagenet',\n",
        "    include_top=False)\n",
        "\n",
        "inception_resnet_v2.trainable = False\n",
        "\n",
        "x = GlobalAveragePooling2D()(inception_resnet_v2.output)\n",
        "x = Flatten()(x)\n",
        "x = Dense(128, activation='relu')(x)\n",
        "x = Dense(64, activation='relu')(x)\n",
        "y = Dense(3, activation='softmax')(x)\n",
        "\n",
        "model_inception_resnet_v2 = Model(inputs=inception_resnet_v2.input, outputs=y)\n",
        "model_inception_resnet_v2.compile(\n",
        "  loss='categorical_crossentropy',\n",
        "  optimizer='adam',\n",
        "  metrics=['accuracy']\n",
        ")"
      ]
    },
    {
      "cell_type": "code",
      "execution_count": null,
      "metadata": {
        "id": "0yiYDh98RajQ"
      },
      "outputs": [],
      "source": [
        "early_stopping = EarlyStopping(monitor='val_loss', patience=3)\n",
        "history = model_inception_resnet_v2.fit(\n",
        "    lung_training_data,\n",
        "    validation_data=lung_validation_data,\n",
        "    epochs=20,\n",
        "    callbacks=[early_stopping])"
      ]
    },
    {
      "cell_type": "code",
      "execution_count": null,
      "metadata": {
        "id": "pCi794R1Rgrj"
      },
      "outputs": [],
      "source": [
        "acc = history.history['accuracy']\n",
        "val_acc = history.history['val_accuracy']\n",
        "loss = history.history['loss']\n",
        "val_loss = history.history['val_loss']"
      ]
    },
    {
      "cell_type": "code",
      "execution_count": null,
      "metadata": {
        "id": "s8k3kQuIRipd"
      },
      "outputs": [],
      "source": [
        "from sklearn.metrics import classification_report\n",
        "import numpy as np\n",
        "Y_pred = model_inception_resnet_v2.predict(lung_validation_data)\n",
        "y_pred = np.argmax(Y_pred, axis=1)\n",
        "print(classification_report(lung_validation_data.classes, y_pred))"
      ]
    },
    {
      "cell_type": "code",
      "source": [
        "# InceptionResNetV2 model\n",
        "inception_resnet_v2 = InceptionResNetV2(input_shape=(X, Y, 3),\n",
        "    weights='imagenet',\n",
        "    include_top=False)\n",
        "\n",
        "inception_resnet_v2.trainable = False\n",
        "\n",
        "x = GlobalAveragePooling2D()(inception_resnet_v2.output)\n",
        "x = Flatten()(x)\n",
        "x = Dense(128, activation='relu')(x)\n",
        "x = Dense(64, activation='relu')(x)\n",
        "y = Dense(2, activation='softmax')(x)\n",
        "\n",
        "model_inception_resnet_v2 = Model(inputs=inception_resnet_v2.input, outputs=y)\n",
        "model_inception_resnet_v2.compile(\n",
        "  loss='categorical_crossentropy',\n",
        "  optimizer='adam',\n",
        "  metrics=['accuracy']\n",
        ")"
      ],
      "metadata": {
        "id": "kcG5I_So8CYu"
      },
      "execution_count": null,
      "outputs": []
    },
    {
      "cell_type": "code",
      "execution_count": null,
      "metadata": {
        "id": "F6G6hMF6Rl7y"
      },
      "outputs": [],
      "source": [
        "early_stopping = EarlyStopping(monitor='val_loss', patience=3)\n",
        "history = model_inception_resnet_v2.fit(\n",
        "    colon_training_data,\n",
        "    validation_data=colon_validation_data,\n",
        "    epochs=2,\n",
        "    callbacks=[early_stopping])"
      ]
    },
    {
      "cell_type": "code",
      "execution_count": null,
      "metadata": {
        "id": "93hbEX5ERnnm"
      },
      "outputs": [],
      "source": [
        "acc = history.history['accuracy']\n",
        "val_acc = history.history['val_accuracy']\n",
        "loss = history.history['loss'] T7\n",
        "val_loss = history.history['val_loss']"
      ]
    },
    {
      "cell_type": "code",
      "execution_count": null,
      "metadata": {
        "id": "3kT7q85HRpzi"
      },
      "outputs": [],
      "source": [
        "from sklearn.metrics import classification_report\n",
        "import numpy as np\n",
        "Y_pred = model_inception_resnet_v2.predict(colon_validation_data)\n",
        "y_pred = np.argmax(Y_pred, axis=1)\n",
        "print(classification_report(colon_validation_data.classes, y_pred))"
      ]
    },
    {
      "cell_type": "markdown",
      "source": [
        "# VGG19"
      ],
      "metadata": {
        "id": "eVjjCGr0365g"
      }
    },
    {
      "cell_type": "code",
      "execution_count": null,
      "metadata": {
        "id": "dXDbuJEWS5Ni"
      },
      "outputs": [],
      "source": [
        "# VGG19Net model\n",
        "from tensorflow.keras.applications.vgg19 import VGG19\n",
        "\n",
        "vgg_19 = VGG19(input_shape=(X, Y, 3),\n",
        "    weights='imagenet',Z\n",
        "    include_top=False)\n",
        "\n",
        "vgg_19.trainable = False\n",
        "\n",
        "x = GlobalAveragePooling2D()(inception_resnet_v2.output)\n",
        "x = Flatten()(x)\n",
        "x = Dense(128, activation='relu')(x)\n",
        "x = Dense(64, activation='relu')(x)\n",
        "y = Dense(3, activation='softmax')(x)\n",
        "\n",
        "model_vgg_19 = Model(inputs=vgg_19.input, outputs=y)\n",
        "model_vgg_19.compile(\n",
        "  loss='categorical_crossentropy',\n",
        "  optimizer='adam',\n",
        "  metrics=['accuracy']\n",
        ")"
      ]
    },
    {
      "cell_type": "code",
      "execution_count": null,
      "metadata": {
        "id": "3uN2xj-_VAJZ"
      },
      "outputs": [],
      "source": [
        "early_stopping = EarlyStopping(monitor='val_loss', patience=3)\n",
        "history = model_vgg_19.fit(\n",
        "    lung_training_data,\n",
        "    validation_data=lung_validation_data,\n",
        "    epochs=20,\n",
        "    callbacks=[early_stopping])"
      ]
    },
    {
      "cell_type": "code",
      "execution_count": null,
      "metadata": {
        "id": "CquUTQTHVCJI"
      },
      "outputs": [],
      "source": [
        "acc = history.history['accuracy']\n",
        "val_acc = history.history['val_accuracy']\n",
        "loss = history.history['loss']\n",
        "val_loss = history.history['val_loss']"
      ]
    },
    {
      "cell_type": "code",
      "execution_count": null,
      "metadata": {
        "id": "I8kgqYBTVER_"
      },
      "outputs": [],
      "source": [
        "from sklearn.metrics import classification_report\n",
        "import numpy as np\n",
        "Y_pred = model_vgg_19.predict(lung_validation_data)\n",
        "y_pred = np.argmax(Y_pred, axis=1)\n",
        "print(classification_report(lung_validation_data.classes, y_pred))"
      ]
    },
    {
      "cell_type": "code",
      "source": [
        "# VGG19Net model\n",
        "from tensorflow.keras.applications.vgg19 import VGG19\n",
        "\n",
        "vgg_19 = VGG19(input_shape=(X, Y, 3),\n",
        "    weights='imagenet',Z\n",
        "    include_top=False)\n",
        "\n",
        "vgg_19.trainable = False\n",
        "\n",
        "x = GlobalAveragePooling2D()(inception_resnet_v2.output)\n",
        "x = Flatten()(x)\n",
        "x = Dense(128, activation='relu')(x)\n",
        "x = Dense(64, activation='relu')(x)\n",
        "y = Dense(2, activation='softmax')(x)\n",
        "\n",
        "model_vgg_19 = Model(inputs=vgg_19.input, outputs=y)\n",
        "model_vgg_19.compile(\n",
        "  loss='categorical_crossentropy',\n",
        "  optimizer='adam',\n",
        "  metrics=['accuracy']\n",
        ")"
      ],
      "metadata": {
        "id": "uhnuDYuO8H50"
      },
      "execution_count": null,
      "outputs": []
    },
    {
      "cell_type": "code",
      "execution_count": null,
      "metadata": {
        "id": "1yGSIg2VVGJ-"
      },
      "outputs": [],
      "source": [
        "early_stopping = EarlyStopping(monitor='val_loss', patience=3)\n",
        "history = model_vgg_19.fit(\n",
        "    colon_training_data,\n",
        "    validation_data=colon_validation_data,\n",
        "    epochs=2,\n",
        "    callbacks=[early_stopping])"
      ]
    },
    {
      "cell_type": "code",
      "execution_count": null,
      "metadata": {
        "id": "27Di097bVIG7"
      },
      "outputs": [],
      "source": [
        "acc = history.history['accuracy']\n",
        "val_acc = history.history['val_accuracy']\n",
        "loss = history.history['loss']\n",
        "val_loss = history.history['val_loss']"
      ]
    },
    {
      "cell_type": "code",
      "execution_count": null,
      "metadata": {
        "id": "N780S4obVLrV"
      },
      "outputs": [],
      "source": [
        "from sklearn.metrics import classification_report\n",
        "import numpy as np\n",
        "Y_pred = model_vgg_19.predict(colon_validation_data)\n",
        "y_pred = np.argmax(Y_pred, axis=1)\n",
        "print(classification_report(colon_validation_data.classes, y_pred))"
      ]
    },
    {
      "cell_type": "markdown",
      "source": [
        "# Lung and Colon Cancer"
      ],
      "metadata": {
        "id": "DfpUM0DA1w5A"
      }
    },
    {
      "cell_type": "markdown",
      "source": [
        "# EfficientNet"
      ],
      "metadata": {
        "id": "zkIsZlFU2bpH"
      }
    },
    {
      "cell_type": "code",
      "source": [
        "\n",
        "\n",
        "# EfficientNet B7 model published by Google AI\n",
        "efficientnet = EfficientNetB7(input_shape=(X, Y, 3),\n",
        "    weights='imagenet',\n",
        "    include_top=False)\n",
        "\n",
        "efficientnet.trainable = False\n",
        "\n",
        "x = GlobalAveragePooling2D()(efficientnet.output)\n",
        "x = Flatten()(x)\n",
        "x = Dense(128, activation='relu')(x)\n",
        "x = Dense(64, activation='relu')(x)\n",
        "y = Dense(5, activation='softmax')(x)\n",
        "\n",
        "model_efficientnet = Model(inputs=efficientnet.input, outputs=y)\n",
        "model_efficientnet.compile(\n",
        "  loss='categorical_crossentropy',\n",
        "  optimizer='adam',\n",
        "  metrics=['accuracy']\n",
        ")"
      ],
      "metadata": {
        "id": "nACadC3Z8QEz"
      },
      "execution_count": null,
      "outputs": []
    },
    {
      "cell_type": "code",
      "source": [
        "early_stopping = EarlyStopping(monitor='val_loss', patience=3)\n",
        "history = model_efficientnet.fit(\n",
        "    lung_colon_training_data,\n",
        "    validation_data=lung_colon_validation_data,\n",
        "    epochs=2,\n",
        "    callbacks=[early_stopping])"
      ],
      "metadata": {
        "id": "JCjRlNT81zSj"
      },
      "execution_count": null,
      "outputs": []
    },
    {
      "cell_type": "code",
      "source": [
        "acc = history.history['accuracy']\n",
        "val_acc = history.history['val_accuracy']\n",
        "loss = history.history['loss']\n",
        "val_loss = history.history['val_loss']"
      ],
      "metadata": {
        "id": "HtFpPw8_2IQ3"
      },
      "execution_count": null,
      "outputs": []
    },
    {
      "cell_type": "code",
      "source": [
        "from sklearn.metrics import classification_report\n",
        "import numpy as np\n",
        "Y_pred = model_efficientnet.predict(lung_colon_validation_data)\n",
        "y_pred = np.argmax(Y_pred, axis=1)\n",
        "\n",
        "print(classification_report(lung_colon_validation_data.classes, y_pred))"
      ],
      "metadata": {
        "id": "opnmSXKB2PmQ"
      },
      "execution_count": null,
      "outputs": []
    },
    {
      "cell_type": "markdown",
      "source": [
        "# InceptionV3"
      ],
      "metadata": {
        "id": "3Ata2zRj2XXP"
      }
    },
    {
      "cell_type": "code",
      "source": [
        "# InceptionResNetV2 model\n",
        "inception_resnet_v2 = InceptionResNetV2(input_shape=(X, Y, 3),\n",
        "    weights='imagenet',\n",
        "    include_top=False)\n",
        "\n",
        "inception_resnet_v2.trainable = False\n",
        "\n",
        "x = GlobalAveragePooling2D()(inception_resnet_v2.output)\n",
        "x = Flatten()(x)\n",
        "x = Dense(128, activation='relu')(x)\n",
        "x = Dense(64, activation='relu')(x)\n",
        "y = Dense(5, activation='softmax')(x)\n",
        "\n",
        "model_inception_resnet_v2 = Model(inputs=inception_resnet_v2.input, outputs=y)\n",
        "model_inception_resnet_v2.compile(\n",
        "  loss='categorical_crossentropy',\n",
        "  optimizer='adam',\n",
        "  metrics=['accuracy']\n",
        ")"
      ],
      "metadata": {
        "id": "lRwrGUnI8V7W"
      },
      "execution_count": null,
      "outputs": []
    },
    {
      "cell_type": "code",
      "source": [
        "early_stopping = EarlyStopping(monitor='val_loss', patience=3)\n",
        "history = model_inception_resnet_v2.fit(\n",
        "    lung_colon_training_data,\n",
        "    validation_data=lung_colon_validation_data,\n",
        "    epochs=20,\n",
        "    callbacks=[early_stopping])"
      ],
      "metadata": {
        "id": "n0dcu_ts2Wg9"
      },
      "execution_count": null,
      "outputs": []
    },
    {
      "cell_type": "code",
      "source": [
        "acc = history.history['accuracy']\n",
        "val_acc = history.history['val_accuracy']\n",
        "loss = history.history['loss']\n",
        "val_loss = history.history['val_loss']"
      ],
      "metadata": {
        "id": "IOmHAtmy2pWp"
      },
      "execution_count": null,
      "outputs": []
    },
    {
      "cell_type": "code",
      "source": [
        "from sklearn.metrics import classification_report\n",
        "import numpy as np\n",
        "Y_pred = model_inception_resnet_v2.predict(lung_colon_validation_data)\n",
        "y_pred = np.argmax(Y_pred, axis=1)\n",
        "print(classification_report(lung_colon_validation_data.classes, y_pred))"
      ],
      "metadata": {
        "id": "RAS_Mjhg2tAn"
      },
      "execution_count": null,
      "outputs": []
    },
    {
      "cell_type": "markdown",
      "source": [
        "# VGG19"
      ],
      "metadata": {
        "id": "364O3RJr2_lg"
      }
    },
    {
      "cell_type": "code",
      "source": [
        "# VGG19Net model\n",
        "from tensorflow.keras.applications.vgg19 import VGG19\n",
        "\n",
        "vgg_19 = VGG19(input_shape=(X, Y, 3),\n",
        "    weights='imagenet',Z\n",
        "    include_top=False)\n",
        "\n",
        "vgg_19.trainable = False\n",
        "\n",
        "x = GlobalAveragePooling2D()(inception_resnet_v2.output)\n",
        "x = Flatten()(x)\n",
        "x = Dense(128, activation='relu')(x)\n",
        "x = Dense(64, activation='relu')(x)\n",
        "y = Dense(5, activation='softmax')(x)\n",
        "\n",
        "model_vgg_19 = Model(inputs=vgg_19.input, outputs=y)\n",
        "model_vgg_19.compile(\n",
        "  loss='categorical_crossentropy',\n",
        "  optimizer='adam',\n",
        "  metrics=['accuracy']\n",
        ")"
      ],
      "metadata": {
        "id": "nC5GXx_g8bwZ"
      },
      "execution_count": null,
      "outputs": []
    },
    {
      "cell_type": "code",
      "source": [
        "early_stopping = EarlyStopping(monitor='val_loss', patience=3)\n",
        "history = model_vgg_19.fit(\n",
        "    lung_colon_training_data,\n",
        "    validation_data=lung_colon_validation_data,\n",
        "    epochs=20,\n",
        "    callbacks=[early_stopping])"
      ],
      "metadata": {
        "id": "9K3IEGiW2-_S"
      },
      "execution_count": null,
      "outputs": []
    },
    {
      "cell_type": "code",
      "source": [
        "acc = history.history['accuracy']\n",
        "val_acc = history.history['val_accuracy']\n",
        "loss = history.history['loss']\n",
        "val_loss = history.history['val_loss']"
      ],
      "metadata": {
        "id": "bvUEBfdt3KH_"
      },
      "execution_count": null,
      "outputs": []
    },
    {
      "cell_type": "code",
      "source": [
        "from sklearn.metrics import classification_report\n",
        "import numpy as np\n",
        "Y_pred = model_vgg_19.predict(lung_colon_validation_data)\n",
        "y_pred = np.argmax(Y_pred, axis=1)\n",
        "print(classification_report(lung_colon_validation_data.classes, y_pred))"
      ],
      "metadata": {
        "id": "a824Lrdq3NFx"
      },
      "execution_count": null,
      "outputs": []
    }
  ],
  "metadata": {
    "colab": {
      "provenance": [],
      "toc_visible": true,
      "collapsed_sections": [
        "DfpUM0DA1w5A"
      ]
    },
    "kernelspec": {
      "display_name": "Python 3",
      "name": "python3"
    },
    "language_info": {
      "name": "python"
    }
  },
  "nbformat": 4,
  "nbformat_minor": 0
}